{
 "cells": [
  {
   "cell_type": "markdown",
   "metadata": {},
   "source": [
    "Task 1\n",
    "\n",
    "Guess The Number: Write a program where the computer randomly generates a number between 0 and 20. The user needs to guess what the number is. If the user guesses wrong, tell them their guess is either too high, or too low. "
   ]
  },
  {
   "cell_type": "code",
   "execution_count": 19,
   "metadata": {},
   "outputs": [
    {
     "name": "stdout",
     "output_type": "stream",
     "text": [
      "Guess the number:6\n",
      "6\n"
     ]
    },
    {
     "data": {
      "text/plain": [
       "'You are a genius!'"
      ]
     },
     "execution_count": 19,
     "metadata": {},
     "output_type": "execute_result"
    }
   ],
   "source": [
    "def guess_the_number(guess):\n",
    "    import random\n",
    "    number = random.randint(0,20)\n",
    "    if number == guess:\n",
    "        return \"You are a genius!\"\n",
    "    elif guess > number:\n",
    "        return \"Your guess is quite high, try again\"\n",
    "    else:\n",
    "        return \"Your guess is low, try again\"\n",
    "guess = int(input(\"Guess the number:\"))\n",
    "guess_the_number(guess)"
   ]
  },
  {
   "cell_type": "markdown",
   "metadata": {},
   "source": [
    "Task 2\n",
    "\n",
    "Password Generator: Write a program, which generates a random password for the user. Ask the user how long they want their password to be, and how many letters and numbers they want in their password. Have a mix of upper and lowercase letters, as well as numbers and symbols. The password should be a minimum of 6 characters long.\n"
   ]
  },
  {
   "cell_type": "code",
   "execution_count": 38,
   "metadata": {},
   "outputs": [
    {
     "name": "stdout",
     "output_type": "stream",
     "text": [
      "How long should the password be?, enter a number:8\n"
     ]
    },
    {
     "data": {
      "text/plain": [
       "'hL7|a~/q'"
      ]
     },
     "execution_count": 38,
     "metadata": {},
     "output_type": "execute_result"
    }
   ],
   "source": [
    "def password_generator(length):\n",
    "    if length >= 6:\n",
    "        import random\n",
    "        lower_case = 'abcdefghijklmnopqrstuvwxyz'\n",
    "        upper_case = lower_case.upper()\n",
    "        number = '0123456789'\n",
    "        symbols = '@#$%=:,?./|~>*()'\n",
    "        combined_char = lower_case + upper_case + number + symbols\n",
    "        filler = ''\n",
    "        password = random.choice(lower_case) + random.choice(upper_case) + random.choice(number) + random.choice(symbols) + filler.join(random.choices(combined_char, k= length - 4))\n",
    "        return password\n",
    "    else:\n",
    "        return \"Minimum length of password is 6\"\n",
    "length = int(input('How long should the password be?, enter a number:'))\n",
    "password_generator(length)"
   ]
  },
  {
   "cell_type": "code",
   "execution_count": null,
   "metadata": {},
   "outputs": [],
   "source": []
  }
 ],
 "metadata": {
  "kernelspec": {
   "display_name": "Python 3",
   "language": "python",
   "name": "python3"
  },
  "language_info": {
   "codemirror_mode": {
    "name": "ipython",
    "version": 3
   },
   "file_extension": ".py",
   "mimetype": "text/x-python",
   "name": "python",
   "nbconvert_exporter": "python",
   "pygments_lexer": "ipython3",
   "version": "3.7.1"
  }
 },
 "nbformat": 4,
 "nbformat_minor": 2
}
